{
  "nbformat": 4,
  "nbformat_minor": 0,
  "metadata": {
    "colab": {
      "name": "Clase 8 - Archivos",
      "provenance": [],
      "mount_file_id": "1ay7Ikujc7xKU_LRk0Qok2Bs1vZh0ZuMc",
      "authorship_tag": "ABX9TyPoIyZfSTcG+VVQeyqraHUS",
      "include_colab_link": true
    },
    "kernelspec": {
      "name": "python3",
      "display_name": "Python 3"
    },
    "language_info": {
      "name": "python"
    }
  },
  "cells": [
    {
      "cell_type": "markdown",
      "metadata": {
        "id": "view-in-github",
        "colab_type": "text"
      },
      "source": [
        "<a href=\"https://colab.research.google.com/github/nicolas-rosales/proyectocoder/blob/main/Clase_8_Archivos.ipynb\" target=\"_parent\"><img src=\"https://colab.research.google.com/assets/colab-badge.svg\" alt=\"Open In Colab\"/></a>"
      ]
    },
    {
      "cell_type": "code",
      "execution_count": null,
      "metadata": {
        "colab": {
          "base_uri": "https://localhost:8080/"
        },
        "id": "hfYasERhCNr9",
        "outputId": "2b0ca792-612b-4634-b7b3-53a6ef34d4ee"
      },
      "outputs": [
        {
          "output_type": "stream",
          "name": "stdout",
          "text": [
            "Drive already mounted at /drive/; to attempt to forcibly remount, call drive.mount(\"/drive/\", force_remount=True).\n"
          ]
        }
      ],
      "source": [
        "from google.colab import drive\n",
        "\n",
        "drive.mount('/drive/')"
      ]
    },
    {
      "cell_type": "code",
      "source": [
        "ruta = \"/content/drive/MyDrive/Coder\"\n",
        "\n",
        "archivo = open(ruta + \"/mimascota.txt\", \"w\")\n",
        "\n",
        "lista = []\n",
        "\n",
        "for numero in range(3):\n",
        "  valor = input(\"Ingrese un dato de su Mascota: \")\n",
        "  lista.append(valor)\n",
        "\n",
        "cadena = \"\\n\".join(lista)\n",
        "archivo.write(cadena)\n",
        "\n",
        "archivo.close()"
      ],
      "metadata": {
        "colab": {
          "base_uri": "https://localhost:8080/"
        },
        "id": "kjfAI0I7RSTI",
        "outputId": "bc1a9266-9b1e-4f6c-942e-b48e1b99cc99"
      },
      "execution_count": null,
      "outputs": [
        {
          "name": "stdout",
          "output_type": "stream",
          "text": [
            "Ingrese un dato de su Mascota: Falucho\n",
            "Ingrese un dato de su Mascota: 8\n",
            "Ingrese un dato de su Mascota: Negro\n"
          ]
        }
      ]
    },
    {
      "cell_type": "code",
      "source": [
        "ruta = \"/content/drive/MyDrive/Coder\"\n",
        "\n",
        "archivo = open(ruta + \"/mimascota.txt\", \"r\")\n",
        "\n",
        "cadena = archivo.readlines()\n",
        "\n",
        "archivo.close()\n",
        "\n",
        "print(f\" {cadena}, Tipo de Dato: {type(cadena)}\")"
      ],
      "metadata": {
        "id": "LjhHY-qoa3cD"
      },
      "execution_count": null,
      "outputs": []
    },
    {
      "cell_type": "code",
      "source": [
        "import json\n",
        "\n",
        "diccionario = {}\n",
        "\n",
        "diccionario[\"Marvel\"] = [\n",
        "                         {\"Heroe: \": \"Iron Man\"},\n",
        "                         {\"Heroe: \": \"Hulk\"},\n",
        "                         {\"Heroe: \": \"Thor\"},\n",
        "                         {\"Heroe: \": \"Capitan America\"},\n",
        "]\n",
        "\n",
        "archivo_json = open(ruta+\"/heroes.json\", \"w\")\n",
        "json.dump(diccionario, archivo_json, indent=4)\n",
        "\n",
        "archivo_json.close()\n"
      ],
      "metadata": {
        "id": "QQI2PB9jfeRk"
      },
      "execution_count": null,
      "outputs": []
    },
    {
      "cell_type": "code",
      "source": [
        "archivo_json = open(ruta+\"/heroes.json\", \"r\")\n",
        "\n",
        "diccionario_heroes = json.load(archivo_json)\n",
        "\n",
        "print(diccionario_heroes)\n",
        "archivo_json.close()"
      ],
      "metadata": {
        "colab": {
          "base_uri": "https://localhost:8080/"
        },
        "id": "7um8-iGyr8P-",
        "outputId": "14ca1c3d-e79a-479d-d54b-f7ce47767fd9"
      },
      "execution_count": null,
      "outputs": [
        {
          "output_type": "stream",
          "name": "stdout",
          "text": [
            "{'Marvel': [{'Heroe: ': 'Iron Man'}, {'Heroe: ': 'Hulk'}, {'Heroe: ': 'Thor'}, {'Heroe: ': 'Capitan America'}]}\n"
          ]
        }
      ]
    },
    {
      "cell_type": "code",
      "source": [
        "import numpy\n",
        "import pandas\n",
        "\n",
        "delitos = pandas.read_csv(\"/content/drive/MyDrive/Coder/snic-pais.csv\")"
      ],
      "metadata": {
        "id": "sIqihtd4yTDp"
      },
      "execution_count": null,
      "outputs": []
    },
    {
      "cell_type": "code",
      "source": [
        "delitos[\"codigo_delito_snic_nombre\"].value_counts()"
      ],
      "metadata": {
        "colab": {
          "base_uri": "https://localhost:8080/"
        },
        "id": "QMttMPsLyxMh",
        "outputId": "9e0a7109-3dbe-48d5-a55d-b44c6cb6664e"
      },
      "execution_count": null,
      "outputs": [
        {
          "output_type": "execute_result",
          "data": {
            "text/plain": [
              "Homicidios dolosos                                                                              7\n",
              "Delitos contra el orden público                                                                 7\n",
              "Delitos contra el honor                                                                         7\n",
              "Violaciones                                                                                     7\n",
              "Lesiones culposas por otros hechos                                                              7\n",
              "Lesiones culposas en Accidentes Viales                                                          7\n",
              "Lesiones dolosas                                                                                7\n",
              "Homicidios culposos por otros hechos                                                            7\n",
              "Suicidios (consumados)                                                                          7\n",
              "Muertes en Accidentes Viales                                                                    7\n",
              "Otros delitos previstos en leyes especiales                                                     7\n",
              "Delitos contra la fe pública                                                                    7\n",
              "Delitos contra la administración pública                                                        7\n",
              "Delitos contra los poderes públicos y el orden constitucional                                   7\n",
              "Delitos contra la seguridad de la nación                                                        7\n",
              "Otros delitos contra las personas                                                               7\n",
              "Otros delitos contra la integridad sexual                                                       7\n",
              "Robos agravados por el resultado de lesiones y/o muertes                                        7\n",
              "Otros delitos contra la propiedad                                                               7\n",
              "Delitos contra el estado civil                                                                  7\n",
              "Amenazas                                                                                        7\n",
              "Otros delitos contra la libertad                                                                7\n",
              "Tentativas de robo (excluye las agravadas por el res. de lesiones y/o muerte)                   7\n",
              "Robos (excluye los agravados por el resultado de lesiones y/o muertes)                          7\n",
              "Tentativas de robo agravado por el resultado de lesiones y/o muertes                            7\n",
              "Hurtos                                                                                          7\n",
              "Homicidios dolosos en grado de tentativa                                                        7\n",
              "Tentativas de hurto                                                                             7\n",
              "Ley de fauna                                                                                    4\n",
              "Tenencia simple de estupefacientes                                                              4\n",
              "Tenencia simple atenuada para uso personal de estupefacientes                                   4\n",
              "Confabulación de estupefacientes                                                                4\n",
              "Contrabando de estupefacientes                                                                  4\n",
              "Ley de residuos peligrosos                                                                      4\n",
              "Entrega y comercialización ilegal de armas de fuego                                             4\n",
              "Delitos migratorios                                                                             4\n",
              "Obstrucción del código aduanero                                                                 4\n",
              "Contrabando Simple                                                                              4\n",
              "Contrabando Agravado                                                                            4\n",
              "Desvío de Importación de estupefacientes                                                        4\n",
              "Contrabando de elementos nucleares agresivos químicos armas y municiones                        4\n",
              "Organización y financiación de estupefacientes                                                  4\n",
              "Delitos contra el orden económico y financiero                                                  4\n",
              "Tenencia o entrega atenuada de estupefacientes                                                  4\n",
              "Comercialización y entrega de estupefacientes                                                   4\n",
              "Otros delitos previstos en la ley 23.737                                                        4\n",
              "Siembra y producción de estupefacientes                                                         4\n",
              "Otros delitos contra la seguridad pública                                                       4\n",
              "Omisión adulteración y supresión de marcaje                                                     4\n",
              "Acopio y fabricación ilegal de armas piezas y municiones                                        4\n",
              "Portación ilegal de armas de fuego                                                              4\n",
              "Tenencia ilegal de armas de fuego                                                               4\n",
              "Fabricación adquisición transferencia y tenencia de explosivos y otros materiales peligrosos    4\n",
              "Trata de personas agravado                                                                      4\n",
              "Trata de personas simple                                                                        4\n",
              "Ley 23.737 (estupefacientes)                                                                    3\n",
              "Delitos contra la seguridad pública                                                             3\n",
              "Name: codigo_delito_snic_nombre, dtype: int64"
            ]
          },
          "metadata": {},
          "execution_count": 41
        }
      ]
    }
  ]
}